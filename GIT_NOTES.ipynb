{
 "cells": [
  {
   "cell_type": "markdown",
   "metadata": {},
   "source": [
    ">>> Install git\n",
    ">>> check the version\n",
    "<git --version>\n",
    "\n",
    ">>>Open your account on github.com\n",
    "\n",
    ">>> Create new repositor(from github.com)\n",
    ">>> go to your root directory of your project in cmd\n",
    "\n",
    "<git init> \n",
    "#this will create the \".git\" file on the root dir(it may be hidden if you want to check then show the hidden files)\n",
    "\n",
    "<git add --all>\n",
    "#this will add our all of the files which was present at root dir\n",
    "\n",
    "<git commit -m \"message\">\n",
    "#used to send all the local added changes to github"
   ]
  },
  {
   "cell_type": "markdown",
   "metadata": {},
   "source": [
    ">>>Here you got an error for setup git to your local machine\n",
    ">Follow the commands\n",
    "<git config --global user.email satyam12@gmail.com>  #gmail from which you created github account\n",
    "<git config --global user.name satyamverve>  #this is the name of your github acoount\n",
    "\n",
    ">>>Now set the branch\n",
    "<git branch -M main> \n",
    "here main is the local branch name you can give it any name"
   ]
  },
  {
   "cell_type": "markdown",
   "metadata": {},
   "source": [
    "## Difference between Remote, Master, Origin and Main\n",
    "\n",
    "1. MASTER: This is the default branch named in git repository\n",
    "2. MAIN: Both Master and Main branch are same, the only difference is previous(means the repos which we created \n",
    "         earlier) default git repository is called MASTER and the current git repository where we are working is \n",
    "         called MAIN.\n",
    "3. ORIGIN: When we clone someones repository to our github as local repositories then by \n",
    "           default that repository is called ORIGIN(you can make the name of ORIGIN anything)\n",
    "4. REMOTE: It is a reference to the local repositories(called ORIGIN),which allowing to fetch, and push changes \n",
    "           between repositories(someones repository and our local repository called Origin).\n"
   ]
  },
  {
   "cell_type": "markdown",
   "metadata": {},
   "source": [
    "## Make a remote and fetch your repo\n",
    "(here remote name is origin bydefault and remote is used to add changes)\n",
    "\n",
    "<git remote add origin repository_url>\n",
    "<git remote add origin https://github.com/satyamverve/fastapi_project.git> \n",
    "#add .git at the end of your url"
   ]
  },
  {
   "cell_type": "markdown",
   "metadata": {},
   "source": [
    "## git push\n",
    ">>> after all changes push your all changes to git\n",
    "<git push -u origin main>\n",
    "The -u flag creates a tracking reference for every branch that you successfully push onto the remote repository."
   ]
  },
  {
   "cell_type": "markdown",
   "metadata": {},
   "source": [
    "<git status>\n",
    "used to see all the changes\n",
    "\n",
    "<git fetch>\n",
    "set to the current origin or remote\n",
    "\n",
    "<git push>\n",
    "push all changes\n",
    "\n",
    "<git remote>\n",
    "see what is your current remote\n",
    "\n",
    "<git branch>\n",
    "see all branches\n"
   ]
  },
  {
   "cell_type": "markdown",
   "metadata": {},
   "source": [
    "## after git add --all\n",
    "If you got an error below:\n",
    "\n",
    "! [rejected]        main -> main (non-fast-forward)\n",
    "error: failed to push some refs to 'https://github.com/satyamverve/fastapi.git'\n",
    "hint: Updates were rejected because the tip of your current branch is behind\n",
    "hint: its remote counterpart. Integrate the remote changes (e.g.\n",
    "hint: 'git pull ...') before pushing again.\n",
    "hint: See the 'Note about fast-forwards' in 'git push --help' for details.\n",
    "\n",
    "<It means local copy of a repository is behind the upstream repository, you need to fetch the changes from the upstream repository before you can push your local changes.\n",
    "Here are the steps to do this:>\n",
    "\n",
    "<git fetch origin>\n",
    "<git merge origin/main>  #this command is optional\n",
    "<git rebase origin/main >\n",
    "<git rebase --continue>\n",
    "<git merge --continue>\n",
    "\n",
    "## Now push the changes\n",
    "<git push origin main>"
   ]
  },
  {
   "cell_type": "markdown",
   "metadata": {},
   "source": [
    "## Commands to do for every commit\n",
    "<Note: I have created a new dir for storing all local files to push on git. So, whenever I have changes or I want to add a new file then I copy and paste it in my new directory and then run these commmands to save the changes on github>\n",
    "\n",
    "<git fetch origin>\n",
    "\n",
    "<git pull <remote> <branch>>\n",
    "i.e, <git pull origin main>\n",
    "\n",
    "<git add --all>\n",
    "<git commit -m \"comments\">\n",
    "<git push origin main>"
   ]
  },
  {
   "cell_type": "markdown",
   "metadata": {},
   "source": [
    "## Commands to clone my own repo to local and start pushing and commiting\n",
    ">create a new directory\n",
    ">go to that directory in terminal\n",
    ">add your files here (which you want to push to your repo)\n",
    "<git init>\n",
    "<git remote add origin repo_url.git>\n",
    "<git fetch origin>\n",
    "<git branch -M main>\n",
    "<git pull origin main>\n",
    "<git add --all>\n",
    "<git commit -M \"message\">\n",
    "<git push origin main>"
   ]
  },
  {
   "cell_type": "markdown",
   "metadata": {},
   "source": [
    "## how to work on a global repository by cloning them to your git\n",
    ">> Follow the cpmmands:\n",
    ">create a new directory\n",
    ">go to that directory in terminal\n",
    "<git init>\n",
    "\n",
    ">> go to github and fork the global repo to your repositories\n",
    ">> after fork copy the forked_repository url\n",
    "\n",
    "<git clone forked_repository_url.git>\n",
    "\n",
    ">> navigate to that cloned repo filename\n",
    "<cd <cloned_repository_directory>\n",
    "\n",
    "<git fetch origin>    #This command fetches changes from the remote repository but does not merge them into your local branch\n",
    ">>Edit the file(s) you want to change.\n",
    "\n",
    ">> Add specific changes to git:\n",
    "<git add <filename1> <filename2> ...>\n",
    "\n",
    ">> add all changes to git\n",
    "<git add .> or <git add -all>\n",
    "\n",
    ">> commit changes:\n",
    "<git commit -m \"Your commit message here\">\n",
    "\n",
    ">> Pull changes from Remote Repo,i.e, This fetches changes from the remote repository and merges them into your local branch.\n",
    "<git pull origin <branch_name>   # here my branch_name is \"main\"\n",
    "\n",
    ">> Resolve Merge Conflicts (if any):\n",
    "If there are conflicting changes, Git will prompt you to resolve them.\n",
    "Open the conflicted files, resolve the conflicts, and then add and commit the changes.\n",
    "\n",
    ">> Push Changes to Remote Repository:\n",
    "<git push origin <branch_name>>\n",
    "\n",
    ">> After that you may get popup for authorization then do the authorization using your git account id where you forked this repo"
   ]
  },
  {
   "cell_type": "markdown",
   "metadata": {},
   "source": [
    "<NOTE: After commit changes are stored in local\n",
    "But after push changes are stored in both local and the remote repo>\n",
    "\n",
    "<NOTE: Keep in mind that \"git_fetch\" and \"git_pull\" help you synchronize your local repository with the remote, preventing conflicts that might arise if someone else has pushed changes in the meantime. If there are changes on the remote, it's a good practice to fetch them before making your own changes and pushing them.>"
   ]
  }
 ],
 "metadata": {
  "language_info": {
   "name": "python"
  }
 },
 "nbformat": 4,
 "nbformat_minor": 2
}
