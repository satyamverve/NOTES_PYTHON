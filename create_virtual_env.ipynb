{
 "cells": [
  {
   "cell_type": "markdown",
   "metadata": {},
   "source": [
    "### Steps to create virtual environment in UBUNTU "
   ]
  },
  {
   "cell_type": "markdown",
   "metadata": {},
   "source": [
    "1.sudo python3 --version\n",
    "\n",
    "2.sudo pip install virtualenv\n",
    "\n",
    "3.sudo apt-get install software-properties-common\n",
    "\n",
    "4.sudo apt-add-repository universe\n",
    "\n",
    "5.sudo apt-get update\n",
    "\n",
    "6.sudo apt-get install virtualenv \n",
    "\n",
    "7.sudo mkdir fastapi\n",
    "  >>>\"fastapi\">> Folder name where you I want to make virtul environment\n",
    "\n",
    "8.cd fastapi\n",
    "  >>>go to that folder in cmd i.e., fastapi\n",
    "\n",
    "9.sudo python3 -m venv myenv-env\n",
    "  >>> \"myenv-env\" is my virtual environment name\n",
    "\n",
    "10.source myenv-env/bin/activate\n",
    "   >>> command to activate the virtual environment\n",
    "\n",
    "11. After that set intrepreter as per your vertual environment\n",
    "\n",
    "12.deactivate\n",
    "   >>> used to deactivate the virtual environment \n",
    "\n"
   ]
  },
  {
   "cell_type": "markdown",
   "metadata": {},
   "source": [
    "NOTES: If you get any permission error with your virtual environment location\n",
    "<Let's fix this>\n",
    "1. Open CMD\n",
    "2. naviage to the location where you get error\n",
    "3. Run this Command\n",
    ">>>sudo chmod -R 777 /home/verve/Desktop/training/fastapi/\n",
    ">>>ls -ll /home/verve/Desktop/training/fastapi/\n",
    "4.exit\n"
   ]
  },
  {
   "cell_type": "markdown",
   "metadata": {},
   "source": [
    "NOTES:\n",
    "NOTE: To getting started with your virtual environment \n",
    ">>> select python interpreter path i.e, venv_name/bin/python file (select it from your virtual environment folder) by clicking on python which was present in the bttom right corner"
   ]
  },
  {
   "cell_type": "markdown",
   "metadata": {},
   "source": [
    "<CRAETE requirements.txt file>\n",
    ">>> Got your project directory or virtual env directory\n",
    ">>> pip freeze > requirements.txt\n",
    "\n",
    "<Getting started with requirements.txt file>\n",
    ">>> pip install -r requirements.txt\n"
   ]
  },
  {
   "cell_type": "markdown",
   "metadata": {},
   "source": [
    "<Command to clear __pycache__ file\n",
    ">>> find . -type d -name \"__pycache__\" -exec rm -r {} \\;"
   ]
  },
  {
   "cell_type": "markdown",
   "metadata": {},
   "source": []
  }
 ],
 "metadata": {
  "language_info": {
   "name": "python"
  }
 },
 "nbformat": 4,
 "nbformat_minor": 2
}
