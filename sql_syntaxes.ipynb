{
 "cells": [
  {
   "cell_type": "markdown",
   "metadata": {},
   "source": [
    "## SQL SELECT\n",
    "<Syntax\n",
    "SELECT column1,column2, ...                                                                                           \n",
    "FROM table;"
   ]
  },
  {
   "cell_type": "markdown",
   "metadata": {},
   "source": [
    "### SQL SELECT DISTINCT Statement\n",
    ">>> we use this statement to get the values of particular required columns only\n",
    "\n",
    "<SYNTAX:                                                                                       \n",
    "SELECT DISTINCT column1, column2 ...                                                                                      \n",
    "FROM table;"
   ]
  },
  {
   "cell_type": "markdown",
   "metadata": {},
   "source": [
    "### SQL SELECT As Alias\n",
    ">>> agar hame kisi table se uske coloumns ko temporarily kisi ar name se display krna ho toh \n",
    "    ham es ALIAS     ka use krte hain\n",
    "\n",
    "<SYNTAX:\n",
    "SELECT column_1 AS alias_1,                                                                                         \n",
    "       column_2 AS alias_2,                                                                                         \n",
    ".......column_n AS alias_n                                                                                          \n",
    "FROM table_name;"
   ]
  },
  {
   "cell_type": "markdown",
   "metadata": {},
   "source": [
    "### SQL SELECT LIMIT, TOP, FETCH FIRST\n",
    ">>> The SQL LIMIT keyword ko hmlog tab use krte hai jab hme kisi single ya multiple columns k limited rows \n",
    "    display karna ho\n",
    "    NOTE: LIMIT ko hmlog mostly query k last m likhte h(fastapi m pagination k time eska use hota h)\n",
    "\n",
    "<SYNTAX:\n",
    "SELECT column1,column2,column3......\n",
    "FROM Table\n",
    "LIMIT n;    \n",
    "//n is number of rows\n",
    "\n",
    "### SQL LIMIT With OFFSET Clause\n",
    "<SYNTAX:\n",
    "SELECT column1, column2......\n",
    "FROM Table\n",
    "LIMIT n OFFSET m;\n",
    "\n",
    "m= number of rows to left from start\n",
    ">>> m ka jo v value hoga utna no of starting s chorne k baad ka data hi display hoga(as per value of LIMIT assign)."
   ]
  },
  {
   "cell_type": "markdown",
   "metadata": {},
   "source": [
    "### SQL IN And NOT IN Operators\n",
    "\n",
    "## SQL 'IN' Operator\n",
    ">>> let kisi country ka nam India h ar hmko kisi table s (one or more columns) ,first_name and last_name \n",
    "    chahiye jiska country name INDIA ho, toh is condition m hm \"IN\" operator ka use krte hain.\n",
    "\n",
    "<SYNTEX:\n",
    "SELECT column1, column2, ...  \n",
    "FROM table\n",
    "WHERE column IN (value1, value2, ...);\n",
    "\n",
    "## SQL NOT IN Operator\n",
    ">>> This is vice-versa of IN Operator i.e, we exclude the rows that match the values in the list.\n",
    "\n",
    "<SYNTAX:\n",
    "SELECT column1, column2, ...  \n",
    "FROM table\n",
    "WHERE column NOT IN (value1, value2, ...);"
   ]
  },
  {
   "cell_type": "markdown",
   "metadata": {},
   "source": [
    "### SQL BETWEEN Operator\n",
    ">>> The BETWEEN operator is used with WHERE clause to match the values in range.\n",
    "\n",
    "<SYNTAX:\n",
    "SELECT column1, column2\n",
    "FROM Table\n",
    "WHERE COLUMN BETWEEN value1 AND value2;\n",
    ">value1 and value2 are lower and uper bounds of the range.\n",
    "\n",
    "### SQL NOT BETWEEN Operator\n",
    ">>> vice-versa of BETWEEN Operator\n",
    "\n",
    "<SYNTAX:\n",
    "SELECT column1, column2\n",
    "FROM Table\n",
    "WHERE column NOT BETWEEN value1 AND value2;"
   ]
  },
  {
   "cell_type": "markdown",
   "metadata": {},
   "source": [
    "### SQL IS NULL and IS NOT NULL\n",
    ">>> These commands are used to check the values which are null or not in Columns of table.\n",
    "\n",
    "## IS NULL\n",
    ">>> USed to select the rows which contain NULL values\n",
    "\n",
    "<SYNTAX:\n",
    "SELECT column1, column2,.....\n",
    "FROM Table\n",
    "WHERE column_name IS NULL;\n",
    "\n",
    "## IS NOT NULL\n",
    ">>> Used to select the rows value which are not null\n",
    "<SYNTAX:\n",
    "SELECT column1, column2,.....\n",
    "FROM Table\n",
    "WHERE column_name IS NOT NULL;"
   ]
  },
  {
   "cell_type": "markdown",
   "metadata": {},
   "source": [
    "### IS NULL With COUNT()\n",
    ">>> COUNT() function with IS NULL is used to count the total number of null values.\n",
    "<STNTAX:\n",
    "SELECT COUNT(*)\n",
    "FROM Table\n",
    "WHERE column_name IS NULL"
   ]
  },
  {
   "cell_type": "markdown",
   "metadata": {},
   "source": [
    "### SQL MIN() and MAX()\n",
    ">>> used to find maxm or minm values from the columns\n",
    "NOTE: When we use it with 'CATEGORICAL COLUMN' toh us column me jo alphabetically jo sbse last me hoga with max and jo sbse pehle hoga wo min k sath\n",
    "\n",
    "## SQL MAX()\n",
    "<SYNTAX:\n",
    "SELECT MAX(column)\n",
    "FROM Table\n",
    "\n",
    "## SQL MIN()\n",
    "<SYNTAX:\n",
    "SELECT MIN(column)\n",
    "FROM Table\n",
    "\n",
    "## ALIASES with MAX() and MIN()\n",
    "<SYNTAX: For MAX()      \n",
    "SELECT MAX(column) AS new_column_name\n",
    "FROM Table;"
   ]
  },
  {
   "cell_type": "markdown",
   "metadata": {},
   "source": [
    "### SQL COUNT()\n",
    ">>> count() function is used to return the total number of records returned by a query.\n",
    "<SYNTAX\n",
    "SELECT COUNT(expression)\n",
    "FROM Table;\n",
    ">\n",
    "\n",
    "## ALIAS with count() function\n",
    "<SYNTAX\n",
    "SELECT COUNT(expression) AS new_column_name\n",
    "FROM Table;\n",
    ">"
   ]
  },
  {
   "cell_type": "markdown",
   "metadata": {},
   "source": [
    "### DISTINCT function returns the total number of different or unique rows or records in a Column\n",
    "\n",
    "## COUNT with DISTINT\n",
    "\n",
    "<SYNTAX:\n",
    "SELECT COUNT(column_name country)\n",
    "FROM Table;\n",
    ">\n"
   ]
  },
  {
   "cell_type": "markdown",
   "metadata": {},
   "source": [
    "### SQL SUM() and AVERAGE() function\n",
    ">>> used to calculate total and average values in a column\n",
    "\n",
    "## SUM() function\n",
    ">>> It is used to calculate the cumulative sum of numeric values in a Table.\n",
    "<SYNTAX\n",
    "SELECT SUM(column_name)\n",
    "FROM Table;\n",
    ">\n",
    "\n",
    "## AVERAGE function\n",
    ">>> Used to calculate the average of numeric values in a column\n",
    "<SYNTAX:\n",
    "SELECT AVERAGE(column_name)\n",
    "FROM Table;\n",
    ">"
   ]
  },
  {
   "cell_type": "markdown",
   "metadata": {},
   "source": [
    "### SQL ORDER BY clause\n",
    ">>> ORDER BY is a clause which is used in SQL to sort the result in ascending\n",
    "or descending order\n",
    "<SYNTAX:\n",
    "SELECT column1, column2....\n",
    "FROM Table\n",
    "ORDER BY columnA, columnB,....\n",
    ">\n",
    "\n",
    "## ORDER BY Ascending Order (ASC)\n",
    "<SYNTAX:\n",
    "SELECT column1, column2....\n",
    "FROM Table\n",
    "ORDER BY columnA, columnB,... ASC\n",
    ">\n",
    "\n",
    "## ORDER BY Descending Oreder (DESC)\n",
    "<SYNTAX:\n",
    "SELECT column1, column2,....\n",
    "FROM Table\n",
    "OREDER BY columnA, columnB,... DESC\n",
    ">\n",
    "\n",
    "<NOTE: When using the WHERE clause with ORDER BY, the WHERE clause always comes first.>"
   ]
  },
  {
   "cell_type": "markdown",
   "metadata": {},
   "source": [
    "### GROUP BY\n",
    ">>> esme ham kisi column me ektarah k jitne v elements hai un rows ko hm ek sath combine kar dete hai.\n",
    "<SYNTAX:\n",
    "SELECT column1, column2,....\n",
    "FROM Table\n",
    "GROUP BY columnA, columnB...;\n",
    ">\n",
    "\n",
    "## GROUP BY with COUNT and ALIAS\n",
    "<SYNTAX:\n",
    "SELECT column, COUNT(*) AS new_column_name\n",
    "FROM Table\n",
    "GROUP BY column;\n",
    ">"
   ]
  },
  {
   "cell_type": "markdown",
   "metadata": {},
   "source": [
    "### SQL LIKE and NOT LIKE opeators\n",
    ">>> maan lo ek country nam ka column hai ar usme kuch rows ka naam h \"INDIA\"\n",
    "ar hmko us column k jis jis rows m \"INDIA\" hai uske sare relationals columns k svi rows ko ek sath print krna hai toh us condition me hm LIKE operator ka use krte h.\n",
    "And always LIKE operator k sath WHERE clause ka use hota h.\n",
    "\n",
    "<SYNTAX:\n",
    "SELECT column1, column2,....\n",
    "FROM Table\n",
    "WHERE column_name LIKE value;\n",
    ">\n",
    "\n",
    "## SQL LIKE With Wildcards characters\n",
    ">>> we can use wildcards with LIKE\n",
    ">>> Let's suppose kisi columns m multiple rows h but hmko us column m s sirf usi row ka detalis chahiye jiska first character \"U\" ho sr uske aage koe v 1 word ho(_), 2 word ho (__), 3 word ho(___) toh es condition m ham LIKE operators k sath wildcard characters(_) ka use krte h\n",
    "\n",
    "<SYNTAX:\n",
    "SELECT column1, column2,....\n",
    "FROM Table\n",
    "WHERE column_name LIKE U(_);\n",
    ">\n",
    "\n",
    "## SQL NOT LIKE Operator\n",
    ">>> Vice_Versa of LIKE operator\n",
    "Means we use this when we want result which doesn't match with the given string pattern.\n",
    "\n",
    "<SYNTAX:\n",
    "SELECT column1, column2,....\n",
    "FROM Table\n",
    "WHERE column_name NOT LIKE value;\n",
    ">\n",
    "\n",
    "## SQL Like operator with multiple condions OR values\n",
    "<SYNTAX:\n",
    "SELECT column1, column2,...\n",
    "FROM Table\n",
    "WHERE column_name LIKE value1 OR column_name LIKE value2 OR....... ;\n",
    ">"
   ]
  },
  {
   "cell_type": "markdown",
   "metadata": {},
   "source": [
    "### SQL UNION\n",
    ">>> jab hme 2 or more different tables se commmon columns ek sath nikalna ho tb ham UNION ka use krte hai\n",
    "<NOTE: for using UNION we must confirm the both the tables have same number of columns with same name and the order of columns is also same.\n",
    "And UNION never returns duplicate values.\n",
    "i.e., Table1: (id->customer_name->age)\n",
    "      Table2: (id->customer_name->age)\n",
    ">\n",
    "\n",
    "<SYNTAX:\n",
    "SELECT column1, column2,....\n",
    "FROM Table1\n",
    "UNION\n",
    "SELECT column1, column2,....\n",
    "FROM Table2\n",
    "UNION\n",
    ".\n",
    ".\n",
    ".\n",
    ".\n",
    ".\n",
    "SELECT column_name\n",
    "FROM Table(n);\n",
    ">\n",
    "\n",
    "## SQL UNION ALL \n",
    ">>> difference between UNON and UNION ALL is , UNION gives the result in sorted form(Ascending Order) while UNION ALL gives the result without sorting and this simply combine the date form down Table first row with its next upper Table first row.\n",
    "It returns the duplicate values.\n",
    "\n",
    "<SYNTAX: same as UNION syntax only difference is we put \"UNION ALL\" in place of UNION.>"
   ]
  },
  {
   "cell_type": "markdown",
   "metadata": {},
   "source": [
    "### SQL Subquery\n",
    ">>> when we put a SQL Query inside another Qyery then this inside QUERY is known as SUBQUERY.\n",
    "lets suppose, kisi table m ek column_name h \"Age\" ar dusra column_name h \"student\"\n",
    "toh hmko result m un student ka naam chahiye jinka age sbse jyada y akam h toh\n",
    "Es case m hm SQL Subquery ka use krte hain\n",
    "\n",
    "<SYNTAX:\n",
    "SELECT column_name\n",
    "From Table\n",
    "WHERE column_operator(\n",
    "    SELECT CONDITIONAL_FUNCTION(column_operator)\n",
    "    FROM Table\n",
    ");\n",
    ">"
   ]
  },
  {
   "cell_type": "markdown",
   "metadata": {
    "vscode": {
     "languageId": "plaintext"
    }
   },
   "source": [
    "### SQL CASE \n",
    ">>> When we want to return the result according to some conditions then we use \"CASE\" stetement\n",
    "\n",
    "<SYNTAX:\n",
    "SELECT column1, column2...\n",
    "CASE\n",
    "  WHEN condition1 THEN result\n",
    "  When condition2 THEN result\n",
    "  .\n",
    "  .\n",
    "  .\n",
    "  .\n",
    "END AS Column(i.e, new temporary column name where you want to return the result)\n",
    "FROM Table;\n",
    ">\n",
    "\n",
    "## We can also use \"ELSE\" statement\n",
    "<SYNTAX:\n",
    "SELECT column1, column2,.....\n",
    "CASE\n",
    "   WHEN condition1 THEN result\n",
    "   WHEN condition2 THEN result\n",
    "   .\n",
    "   .\n",
    "   .\n",
    "   ELSE other_result\n",
    "END AS Alias\n",
    "FROM Table;\n",
    ">"
   ]
  },
  {
   "cell_type": "markdown",
   "metadata": {
    "vscode": {
     "languageId": "plaintext"
    }
   },
   "source": [
    "### SQL HAVING Clause\n",
    ">>> If we want to filter the result after using the aggregate functions like\n",
    "max(), min(), sum(), avg(), and count() then we use HAVING clause.\n",
    "\n",
    "<SYNTAX: \n",
    "SELECT AggFunc(column) AS Alias, extra_columns\n",
    "FROM Table\n",
    "GROUP BY target_column\n",
    "HAVING condition;\n",
    ">"
   ]
  },
  {
   "cell_type": "markdown",
   "metadata": {
    "vscode": {
     "languageId": "plaintext"
    }
   },
   "source": [
    "### Difference between HAVING and WHERE clause\n",
    ">>> Having clause is used with aggregate functions but WHERE clause can't be used with Aggregate Functions.\n",
    ">>> Having clause check the conditions on the group of rows and WHERE clause is used checks the conditions \n",
    "    individually.\n",
    ">>> HAVING clause is used before GROUP BY but WHERE clause was used before the GROUP BY."
   ]
  },
  {
   "cell_type": "markdown",
   "metadata": {
    "vscode": {
     "languageId": "plaintext"
    }
   },
   "source": [
    "### SQL EXISTS Operators\n",
    ">>> SQL EXISTS operator is used with SUBQUERY. In place column_operator with WHERE we use EXISTS in SQL\n",
    "    EXISTS operator.\n",
    ">>>Let's take an example, suppose hmko 2 tables me s waise log ka customer_id ar first_name chahiye jiska \n",
    "   ordered amount > 12000. Then in this conditions we use SQL EXISTS Operators with SUBQUERY.\n",
    "\n",
    "<SYNTAX:\n",
    "SELECT column1, column2, ...\n",
    "FROM table\n",
    "WHERE EXISTS(SUBQUERY);\n",
    ">"
   ]
  },
  {
   "cell_type": "markdown",
   "metadata": {
    "vscode": {
     "languageId": "plaintext"
    }
   },
   "source": [
    "### SQL JOINS\n",
    ">>> SQL JOINS are used to join 2 tables on a common column ar usi hisab s un common columns me jo matching records hoga usko select krega JOINS.\n",
    "\n",
    "<SYNTAX:\n",
    "SELECT columns_from_both_tables\n",
    "FROM Table1\n",
    "JOIN Table2\n",
    "ON Table1.column1 = Table2.column2\n",
    ">\n",
    "\n",
    "## TYPES OF SQL JOINS\n",
    "1. Inner Join\n",
    "2. Left Join\n",
    "3. Right Join\n",
    "4. Full Outer Join"
   ]
  },
  {
   "cell_type": "markdown",
   "metadata": {
    "vscode": {
     "languageId": "plaintext"
    }
   },
   "source": [
    "## 1. INNER JOIN\n",
    ">> It's is same as Join or Simple Join\n",
    ">> In this , 2 or more tables me jo common columns hoga ar usme jo row values equal or\n",
    "   matching hoga bs wahi return hota hai INNER JOIN m\n",
    "<SYNTAX:\n",
    "SELECT columns_from_both_tables\n",
    "FROM Table1\n",
    "JOIN Table2\n",
    "ON Table1.column1 = Table2.column2\n",
    ">\n",
    "ex:\n",
    "-- join the Customers and Orders tables when\n",
    "-- the customer_id from Customers Table matches the customer column in Orders Table\n",
    "\n",
    "QUERY:\n",
    "SELECT Customers.customer_id, Customers.first_name, Orders.amount\n",
    "FROM Customers\n",
    "JOIN Orders\n",
    "ON Customers.customer_id = Orders.customer;"
   ]
  },
  {
   "cell_type": "markdown",
   "metadata": {
    "vscode": {
     "languageId": "plaintext"
    }
   },
   "source": [
    "## 2. LEFT JOIN\n",
    ">>> a LEFT JOIN returns all records from the left table (table1), and the matched records from the right table (table2). If there is no match, NULL values are returned for columns from the right table.\n",
    "\n",
    "<SYNTAX:\n",
    "SELECT columns_from_both_tables\n",
    "FROM Table1\n",
    "LEFT JOIN Table2\n",
    "ON Table1.clumn1 = Table2.column2;\n",
    ">"
   ]
  },
  {
   "cell_type": "markdown",
   "metadata": {
    "vscode": {
     "languageId": "plaintext"
    }
   },
   "source": [
    "## 3. RIGHT JOIN\n",
    ">>> a RIGHT JOIN returns all records from the right table (table2), and the matched records from the left table (table1). If there is no match, NULL values are returned for columns from the left table.\n",
    "\n",
    "<SYNTAX:\n",
    "SELECT columns_from_both_tables\n",
    "FROM Table1\n",
    "RIGHT JOIN Table2\n",
    "ON Table1.column1 = Table2.column2;\n",
    ">"
   ]
  },
  {
   "cell_type": "markdown",
   "metadata": {
    "vscode": {
     "languageId": "plaintext"
    }
   },
   "source": [
    "### SQL FULL OUTER JOIN\n",
    ">>> In this full outer join , jitne common columns k rows honge wo sare k sare join ho jaenge either their row values has matching/equal or not. And jo values empty hoga waha NULL fill ho jaega.\n",
    "<NOTE: Basically hmlog full outer join ka use tab krte hai jab hame 2 tables ke rows ko ek sath krke uske kaunsi  values matching h or knsi values null hai usko check krte h>\n",
    "\n",
    "<SYNTAX:\n",
    "SELECT columns_from_both_tables\n",
    "FROM Table1\n",
    "FULL OUTER JOIN Table2\n",
    "ON Table1.column1 = Table2.column2\n",
    ">"
   ]
  },
  {
   "cell_type": "markdown",
   "metadata": {},
   "source": [
    "### JOINS FOR MULTIPLE COLUMNS\n",
    "<SYNTAX:\n",
    "SELECT columns_from_both tables\n",
    "FROM Table1\n",
    "JOIN Table2\n",
    "ON Table1.Column1 = Table2.Column1\n",
    "AND Table1.Column2 = Table2.Column2;\n",
    ">\n",
    "<NOTE: For multiple columns use \"AND\" operation>"
   ]
  },
  {
   "cell_type": "markdown",
   "metadata": {
    "vscode": {
     "languageId": "plaintext"
    }
   },
   "source": [
    "### SQL DATABASE and TABLES\n",
    "\n",
    "## SQL CREATE db Statement\n",
    "<SYNTAX: CREATE DATABASE db_name>\n",
    "\n",
    "## CREATE DATABASE IF NOT EXISTS\n",
    ">>> If a databse of same name which we are going to make is already exists then in this condition we use \n",
    "    \"CREATE DATABASE IF NOT EXISTS\" stataement taki agar pehle s es nam ka database rhe toh hme pata chal jaye.\n",
    "\n",
    "## SHOW DATABASES (List all databases) \n",
    ">>> we use to show that how many databases are exist in the warehouse or database management system.\n",
    "\n",
    "## USE (Switch Databases)\n",
    ">>> To switch  between available databases to work in DBMS we use \"USE\n",
    "<Syntax: USE db_name>\n"
   ]
  },
  {
   "cell_type": "markdown",
   "metadata": {
    "vscode": {
     "languageId": "plaintext"
    }
   },
   "source": [
    "### SQL CREATE TABLE STATEMENT\n",
    "<SYNTAX:\n",
    "CREATE TABLE table_name(\n",
    "    column1 data type,\n",
    "    column2 data type,\n",
    "    .\n",
    "    .\n",
    "    column(n) data type\n",
    ");\n",
    ">\n",
    "NOTE:\n",
    "1. int => used to store numbers\n",
    "2. varchar(x) => used to store variable characters with maximum of lenth x.\n",
    "3. text => can store texts up to 65535 characters. "
   ]
  },
  {
   "cell_type": "markdown",
   "metadata": {
    "vscode": {
     "languageId": "plaintext"
    }
   },
   "source": [
    "### CREATE TABLE IF NOT EXISTS\n",
    ">>>We will get an error if we create the table with same name which already exist in the databse, To \n",
    "   avoid this error we use this statement.\n",
    "\n",
    "<SYNTAX:\n",
    "CREATE TABLE IF NOT EXISTS table_name(\n",
    "   column1 data type,\n",
    "   column2 data typpe,\n",
    "   .\n",
    "   .\n",
    "   .\n",
    "   column(n) data type\n",
    ");\n",
    ">"
   ]
  },
  {
   "cell_type": "markdown",
   "metadata": {
    "vscode": {
     "languageId": "plaintext"
    }
   },
   "source": [
    "### CREATE TABLE AS\n",
    ">>> Jab hame existing tables ka data use krke koe naya table use krna ho toh us condition m hm\n",
    "    es statement ka  use krte hai.\n",
    "<SYNTAX:\n",
    "CREATE TABLE table_name\n",
    "AS (\n",
    "    SELECT column1, column2,......\n",
    "    FROM table_name\n",
    "    WHERE condition\n",
    ");\n",
    ">"
   ]
  },
  {
   "cell_type": "markdown",
   "metadata": {
    "vscode": {
     "languageId": "plaintext"
    }
   },
   "source": [
    "### SQL DROP DATABASE STATEMENT\n",
    ">>> Used to delete the database from DBMS\n",
    "<SYNTAX:\n",
    "DROP DATABASE database_name;\n",
    ">"
   ]
  },
  {
   "cell_type": "markdown",
   "metadata": {
    "vscode": {
     "languageId": "plaintext"
    }
   },
   "source": [
    "### DROP TRABLE Statement\n",
    ">>> Used to remove the table\n",
    "<SYNTAX:\n",
    "DROP TABLE table_name;\n",
    ">\n",
    "NOTE: When we delete a database table then all records whithin the table are also deleted."
   ]
  },
  {
   "cell_type": "markdown",
   "metadata": {
    "vscode": {
     "languageId": "plaintext"
    }
   },
   "source": [
    "### DROP TABLE IF EXISTS\n",
    ">>> if we are dropping a table ar wo table DB me exist hi na krta ho then we get an error so, for avoid those\n",
    "    errors we use this statement.\n",
    "<SYNTAX:\n",
    "DROP TABLE IF EXISTS table_name;\n",
    ">"
   ]
  },
  {
   "cell_type": "markdown",
   "metadata": {
    "vscode": {
     "languageId": "plaintext"
    }
   },
   "source": [
    "### SQL ALTER TABLE Statement\n",
    ">>> If we want to modify(adding, deleting) the existing table then for this we use ALTER TABLE Statement.\n",
    "<SYNYTEX:\n",
    "ALTER TABLE table_name\n",
    "clause supporting_codes;\n",
    ">\n",
    ">>> Clause means add, delete, rename etc operations"
   ]
  },
  {
   "cell_type": "markdown",
   "metadata": {
    "vscode": {
     "languageId": "plaintext"
    }
   },
   "source": [
    "### ALTER Table Operations\n",
    ">>>\n",
    "1. Add a Column\n",
    "2. Rename a Column\n",
    "3. Modify a Column\n",
    "4. DROP a column\n",
    "5. Rename a Table\n",
    "\n",
    "## 1. ADD a Column  \n",
    "<SYNTAX:\n",
    "ALTER TABLE table_name\n",
    "ADD column_name data_type(value);\n",
    ">\n",
    "\n",
    "# 2. RENAME a Column\n",
    "<SYNTAX:\n",
    "ALTER TABLE Table_name\n",
    "RENAME COLUMN column_name TO new_column_name;\n",
    ">\n",
    "\n",
    "# 3. MODIFY a Table\n",
    "<SYNTAX:\n",
    "ALTER TABLE table_name\n",
    "MODIFY COLUMN data_type(values);\n",
    ">\n",
    "\n",
    "# 4. DROP a Column in a Table \n",
    "<SYNTAX:\n",
    "ALTER TABLE Table_name\n",
    "DROP COLUMN column_name;\n",
    ">\n",
    "\n",
    "# 5. RENAME a Table\n",
    "<SYNTAX:\n",
    "ALTER TABLE table_name\n",
    "RENAME TO new_table_name;\n",
    ">"
   ]
  },
  {
   "cell_type": "markdown",
   "metadata": {
    "vscode": {
     "languageId": "plaintext"
    }
   },
   "source": [
    "### SQL BACKUP DATABASE Statement\n",
    ">>> In sql \"BACKUP DATABASE\" is used to create database Backups\n",
    "\n",
    "# Backup database to a given path\n",
    "<SYNTAX:\n",
    "BACKUP DATABASE database_name\n",
    "TO medium = 'path\\file_name';\n",
    ">\n",
    "medium refers to type of storage i.e., disk, tape, url\n",
    "\n",
    "## Types of Backups in SQL\n",
    "1. Full Backup\n",
    "2. Differential Backup\n",
    "3. Transaction Log (T-log) backup\n",
    "\n"
   ]
  },
  {
   "cell_type": "markdown",
   "metadata": {
    "vscode": {
     "languageId": "plaintext"
    }
   },
   "source": [
    "## FULL BACKUP \n",
    ">>> Full backup is is the complete backup of SQL server databaese.\n",
    "<SYNTAX:\n",
    "BACKUP DATABASE database_name\n",
    "TO medium = 'path\\file_name';\n",
    ">"
   ]
  },
  {
   "cell_type": "markdown",
   "metadata": {
    "vscode": {
     "languageId": "plaintext"
    }
   },
   "source": [
    "## Differential Backup\n",
    ">>> used to backup the new changes as compared to the last full_backup\n",
    "<SYNTAX:\n",
    "BACKUP DATABASE database_name\n",
    "TO medium = 'path\\file_name'\n",
    "DIFFERENTIAL BACKUP;\n",
    ">"
   ]
  },
  {
   "cell_type": "markdown",
   "metadata": {
    "vscode": {
     "languageId": "plaintext"
    }
   },
   "source": [
    "## Transaction BACKUP LOG\n",
    ">>> we use this to capture all the changes since the database is created.\n",
    "<SYNTAX:\n",
    "BACKUP LOG database_name\n",
    "TO medium = 'path\\file_name';\n",
    ">"
   ]
  },
  {
   "cell_type": "markdown",
   "metadata": {
    "vscode": {
     "languageId": "plaintext"
    }
   },
   "source": [
    "### RESTORE DATABASE from Backup \n",
    "<SYNTAX:\n",
    "RESTORE DATABASE database_name;\n",
    "TO medium = 'path\\file_name';\n",
    ">"
   ]
  },
  {
   "cell_type": "markdown",
   "metadata": {
    "vscode": {
     "languageId": "plaintext"
    }
   },
   "source": [
    "### SQL INSERT, UPDATE and DELETE\n",
    "\n",
    "## SQL INSERT INTO Statement\n",
    ">>> INSERT INTO Statement is used to insert new row into Database.\n",
    "<SYNTAX:\n",
    "INSERT INTO table_name(column1, column2,.....)\n",
    "VALUES\n",
    "(value11, value12,......)\n",
    "(value21, value22,......)\n",
    ".......;\n",
    ">\n",
    "Here, value11, value12,.... / value21, value22,.... are the to values to be inserted\n"
   ]
  },
  {
   "cell_type": "markdown",
   "metadata": {
    "vscode": {
     "languageId": "plaintext"
    }
   },
   "source": [
    "### SQL UPDATE Statement\n",
    ">>> Used to edit an existing row in a database table\n",
    "<SYNTAX:\n",
    "UPDATE table_name\n",
    "SET column1 = value1, column2 = value2, column3 = value3......\n",
    "WHERE condition;                               \n",
    ">"
   ]
  },
  {
   "cell_type": "markdown",
   "metadata": {
    "vscode": {
     "languageId": "plaintext"
    }
   },
   "source": [
    "### SQL SELECT INTO (copy table) statement\n",
    ">>> Used to copy data from one table to another table\n",
    "<SYNTAX:\n",
    "SELECT column1, column2,.....\n",
    "INTO destination_table\n",
    "FROM source_table;\n",
    ">\n",
    "NOTE: we can also use WHERE clause if we have any condition\n"
   ]
  },
  {
   "cell_type": "markdown",
   "metadata": {
    "vscode": {
     "languageId": "plaintext"
    }
   },
   "source": [
    "### SQL INSERT INTO SELECT Statement\n",
    ">>> This statement is used to copy records from one table to another existing table.\n",
    "<SYNTAX:\n",
    "INSERT INTO destination_table(column1, column2,......)\n",
    "SELECT column1, column2,.....\n",
    "FROM source_table\n",
    ">\n",
    "NOTE: column1, column2,.... are the names of the columns to be copied and we can make conditions as per requirement by using WHERE clause."
   ]
  },
  {
   "cell_type": "markdown",
   "metadata": {
    "vscode": {
     "languageId": "plaintext"
    }
   },
   "source": [
    "### SQL DELETE and TRUNCATE Rows\n",
    ">>> Delete is used to delete the rows from a database table and it can delete single and as well as multiple \n",
    "    rows at a time also as as per requirements. And it supports WHERE clause also.\n",
    "\n",
    "## SQL DELETE\n",
    "<SYNTAX:\n",
    "DELETE FROM table_name\n",
    "where condition; // use this if required\n",
    ">\n",
    "\n",
    "## SQL TRUNCATE Rows\n",
    ">>> It is also used for delete the rows but when we use TRUNCATE it delete all rows of the column at a time, \n",
    "    we can't use WHERE clause with TRUNCATE.\n",
    "<SYNTAX:\n",
    "TRUNCATE TABLE Customers;\n",
    ">\n"
   ]
  }
 ],
 "metadata": {
  "language_info": {
   "name": "python"
  }
 },
 "nbformat": 4,
 "nbformat_minor": 2
}
